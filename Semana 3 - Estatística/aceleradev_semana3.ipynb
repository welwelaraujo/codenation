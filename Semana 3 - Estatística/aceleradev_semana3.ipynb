{
 "cells": [
  {
   "cell_type": "code",
   "execution_count": 91,
   "metadata": {},
   "outputs": [],
   "source": [
    "import pandas as pd\n",
    "import os\n",
    "\n",
    "os.chdir(r'C:\\Users\\wellington.nogueira\\codenation\\coestatistica-1')"
   ]
  },
  {
   "cell_type": "code",
   "execution_count": 92,
   "metadata": {},
   "outputs": [],
   "source": [
    "df = pd.read_csv(r'C:\\Users\\wellington.nogueira\\codenation\\coestatistica-1\\desafio1.csv')"
   ]
  },
  {
   "cell_type": "code",
   "execution_count": 94,
   "metadata": {},
   "outputs": [],
   "source": [
    "df_final = pd.DataFrame({},index =['media', 'mediana', 'moda', 'desvio_padrao'])\n",
    "for element in df.estado_residencia.unique():\n",
    "    filtrado = df[df['estado_residencia'] == element]\n",
    "    mean = filtrado.pontuacao_credito.mean()\n",
    "    median = filtrado.pontuacao_credito.median()\n",
    "    mode = filtrado.pontuacao_credito.mode()[0]\n",
    "    std = filtrado.pontuacao_credito.std()\n",
    "    complete = [mean,median,mode,std]\n",
    "    df_final[element] = complete\n"
   ]
  },
  {
   "cell_type": "code",
   "execution_count": 95,
   "metadata": {},
   "outputs": [
    {
     "output_type": "execute_result",
     "data": {
      "text/plain": "                       SC          RS          PR\nmedia          649.537653  651.105143  648.961294\nmediana        653.000000  650.000000  650.000000\nmoda           850.000000  850.000000  850.000000\ndesvio_padrao   97.233493   95.136598   98.607186",
      "text/html": "<div>\n<style scoped>\n    .dataframe tbody tr th:only-of-type {\n        vertical-align: middle;\n    }\n\n    .dataframe tbody tr th {\n        vertical-align: top;\n    }\n\n    .dataframe thead th {\n        text-align: right;\n    }\n</style>\n<table border=\"1\" class=\"dataframe\">\n  <thead>\n    <tr style=\"text-align: right;\">\n      <th></th>\n      <th>SC</th>\n      <th>RS</th>\n      <th>PR</th>\n    </tr>\n  </thead>\n  <tbody>\n    <tr>\n      <th>media</th>\n      <td>649.537653</td>\n      <td>651.105143</td>\n      <td>648.961294</td>\n    </tr>\n    <tr>\n      <th>mediana</th>\n      <td>653.000000</td>\n      <td>650.000000</td>\n      <td>650.000000</td>\n    </tr>\n    <tr>\n      <th>moda</th>\n      <td>850.000000</td>\n      <td>850.000000</td>\n      <td>850.000000</td>\n    </tr>\n    <tr>\n      <th>desvio_padrao</th>\n      <td>97.233493</td>\n      <td>95.136598</td>\n      <td>98.607186</td>\n    </tr>\n  </tbody>\n</table>\n</div>"
     },
     "metadata": {},
     "execution_count": 95
    }
   ],
   "source": [
    "df_final.head()"
   ]
  },
  {
   "cell_type": "code",
   "execution_count": 96,
   "metadata": {},
   "outputs": [],
   "source": [
    "df_final.to_json(\"submission.json\")"
   ]
  }
 ],
 "metadata": {
  "language_info": {
   "codemirror_mode": {
    "name": "ipython",
    "version": 3
   },
   "file_extension": ".py",
   "mimetype": "text/x-python",
   "name": "python",
   "nbconvert_exporter": "python",
   "pygments_lexer": "ipython3",
   "version": "3.8.2-final"
  },
  "orig_nbformat": 2,
  "kernelspec": {
   "name": "python38264bitaceleradevdsconda27eeb7aa7fd34b7aa3fd88a5d326f2c9",
   "display_name": "Python 3.8.2 64-bit ('aceleradev_ds': conda)"
  }
 },
 "nbformat": 4,
 "nbformat_minor": 2
}